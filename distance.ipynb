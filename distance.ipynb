{
 "cells": [
  {
   "cell_type": "code",
   "execution_count": 19,
   "id": "58cf2e8c-df7e-439a-8fbe-8de679c835fc",
   "metadata": {},
   "outputs": [],
   "source": [
    "# Import packages\n",
    "import numpy as np\n",
    "from netCDF4 import Dataset as nc\n",
    "import math\n",
    "import statistics as stat\n",
    "import pandas as pd\n",
    "import xarray as xr\n",
    "import csv\n",
    "\n",
    "#Import files from computer\n",
    "## file 1 = no sinking (ns)\n",
    "## file 2 = sinking (s)\n",
    "file1 = '/Users/kudou/Documents/PostBack_Work/CODE/data/Leatherman_All/leathermanNavy_3d_nosink/release_2018.05.01.nc'\n",
    "file2 = '/Users/kudou/Documents/PostBack_Work/CODE/data/Leatherman_All/leathermanNavy_3d_sink40_sink/release_2018.05.01.nc'"
   ]
  },
  {
   "cell_type": "code",
   "execution_count": 20,
   "id": "2eaa534a-5a22-4887-b41e-c750cc5bf852",
   "metadata": {},
   "outputs": [],
   "source": [
    "# Read netCDF4 files for sticking\n",
    "ns = nc(file1)\n",
    "s = nc(file2)\n",
    "\n",
    "# Read netCDF4 files for pandas\n",
    "pd_ns = xr.open_dataset(file1, decode_times=False)\n",
    "pd_s = xr.open_dataset(file2, decode_times=False)\n",
    "\n",
    "# Convert relative depth float64 to data files \n",
    "ns_reldepth = ns[\"cs\"][:].data\n",
    "s_reldepth = s[\"cs\"][:].data\n",
    "\n",
    "# Filter data by relative depth <= -.0.99\n",
    "ns_depthB = ns_reldepth <= -0.99\n",
    "# Find indices relating to first instance of reaching <= -0.99\n",
    "ns_ind = np.argmax(ns_depthB, axis = 0)\n",
    "# For particles that never reach <= -0.99, set index to final value\n",
    "ns_ind[ns_ind==0] = 720\n",
    "# Convert to tuple for faster iteration\n",
    "ns_ind = tuple(ns_ind)\n",
    "\n",
    "# Repeat for sinking\n",
    "s_depthB = s_reldepth <= -0.99\n",
    "s_ind = np.argmax(s_depthB, axis = 0)\n",
    "s_ind[s_ind==0] = 720\n",
    "s_ind = tuple(s_ind)\n",
    "\n",
    "# Covert read files to pandas dataframe\n",
    "pd_ns = pd_ns.to_dataframe()\n",
    "pd_s = pd_s.to_dataframe()\n",
    "\n",
    "#Select latitude and longitude from variables\n",
    "pd_ns = pd_ns.take([0,1], axis=1)\n",
    "pd_s = pd_s.take([0,1], axis=1)"
   ]
  },
  {
   "cell_type": "code",
   "execution_count": 21,
   "id": "ff5aa75c-76d2-4e4c-9459-7d1c36a4b3af",
   "metadata": {},
   "outputs": [],
   "source": [
    "# Create variables for # of coulmns and rows of interest\n",
    "n, m = 1000, 720\n",
    "# Create empty arrays to fill in for loops\n",
    "## For distance between each time point\n",
    "ns_dist, s_dist = np.zeros((n,m)), np.zeros((n,m))\n",
    "## For total distance before sticking\n",
    "ns_sum_dist, s_sum_dist = np.zeros((n,1)), np.zeros((n,1))"
   ]
  },
  {
   "cell_type": "code",
   "execution_count": 22,
   "id": "c0336602-60c5-4a88-acb3-192191f3ff1a",
   "metadata": {},
   "outputs": [],
   "source": [
    "# Create nested for loop to calculate distance (km) traveled between each time point \n",
    "## no sink\n",
    "for i in range(n): # columns\n",
    "    for j in range(m): # rows\n",
    "        start_latt, end_latt = pd_ns.loc[(i,j),\"lat\"], pd_ns.loc[(i,j+1),\"lat\"] # set the two latitudes\n",
    "        start_long, end_long = pd_ns.loc[(i,j),\"lon\"], pd_ns.loc[(i,j+1),\"lon\"] # set two longitudes\n",
    "        d_long, d_latt = (end_long - start_long)*math.pi/180, (end_latt - start_latt)*math.pi/180 # find difference and convert to radians\n",
    "        a = math.sin(d_latt/2)**2 + math.cos(start_latt) * math.cos(end_latt) * math.sin(d_long/2)**2 # part 1 cosine-Haversine formula\n",
    "        c = 2 * math.asin(math.sqrt(a)) # part 2 cosine-Haversine formula\n",
    "        ns_dist[i,j] = 6371 * c # part 3 cosine-haversine + save calculated distance to array\n",
    "# Create for loop that sums distances before first instance of relative depth <= -.99       \n",
    "for i in range(n):\n",
    "    ns_sum_dist[i] = ns_dist[i,0:ns_ind[i]].sum()"
   ]
  },
  {
   "cell_type": "code",
   "execution_count": 23,
   "id": "53bee736-631b-462e-a119-5922cfe3125c",
   "metadata": {},
   "outputs": [],
   "source": [
    "# Create nested for loop to calculate distance (km) traveled between each time point \n",
    "## sink\n",
    "for i in range(n): # columns\n",
    "    for j in range(m): # rows\n",
    "        start_latt, end_latt = pd_s.loc[(i,j),\"lat\"], pd_s.loc[(i,j+1),\"lat\"] # set the two latitudes\n",
    "        start_long, end_long = pd_s.loc[(i,j),\"lon\"], pd_s.loc[(i,j+1),\"lon\"] # set two longitudes\n",
    "        d_long, d_latt = (end_long - start_long)*math.pi/180, (end_latt - start_latt)*math.pi/180 # find difference and convert to radians\n",
    "        a = math.sin(d_latt/2)**2 + math.cos(start_latt) * math.cos(end_latt) * math.sin(d_long/2)**2 # part 1 cosine-Haversine formula\n",
    "        c = 2 * math.asin(math.sqrt(a)) # part 2 cosine-Haversine formula\n",
    "        s_dist[i,j] = 6371 * c # part 3 cosine-haversine + save calculated distance to array\n",
    "# Create for loop that sums distances before first instance of relative depth <= -.99 \n",
    "for i in range(n):\n",
    "    s_sum_dist[i] = s_dist[i,0:s_ind[i]].sum()"
   ]
  },
  {
   "cell_type": "code",
   "execution_count": 24,
   "id": "7c0b5dee-c1f3-409a-9de2-b97fb72f555f",
   "metadata": {},
   "outputs": [],
   "source": [
    "#Create column names\n",
    "cols = [\"No Sinking\", \"Sinking\"]\n",
    "# Convert summmed distance to pandas dataframe and get rid of brackets\n",
    "distance = pd.DataFrame(list(zip(ns_sum_dist.flatten(), s_sum_dist.flatten())))\n",
    "# Save data to csv in Data/ folder with following naming scheme:\n",
    "## MonthYearLocation_dist.csv\n",
    "### Month = 3 letter acronymn, ex. January = Jan\n",
    "### Year = last two digits unless pre-2000, ex. 2018 = 18\n",
    "### Location = shortened name, ex. Puget Sound Naval Shipyard = Navy\n",
    "distance.to_csv(\"Data/May18Navy_dist.csv\", header = cols)"
   ]
  },
  {
   "cell_type": "code",
   "execution_count": null,
   "id": "4f1919d7-177d-4bc0-a187-18004df5b817",
   "metadata": {},
   "outputs": [],
   "source": []
  }
 ],
 "metadata": {
  "kernelspec": {
   "display_name": "Python 3",
   "language": "python",
   "name": "python3"
  },
  "language_info": {
   "codemirror_mode": {
    "name": "ipython",
    "version": 3
   },
   "file_extension": ".py",
   "mimetype": "text/x-python",
   "name": "python",
   "nbconvert_exporter": "python",
   "pygments_lexer": "ipython3",
   "version": "3.8.5"
  }
 },
 "nbformat": 4,
 "nbformat_minor": 5
}
