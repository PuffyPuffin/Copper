{
 "cells": [
  {
   "cell_type": "code",
   "execution_count": 63,
   "id": "58cf2e8c-df7e-439a-8fbe-8de679c835fc",
   "metadata": {},
   "outputs": [],
   "source": [
    "import matplotlib.pyplot as plt\n",
    "import numpy as np\n",
    "from netCDF4 import Dataset as nc\n",
    "import math\n",
    "import statistics as stat\n",
    "import pandas as pd\n",
    "import xarray as xr\n",
    "import cftime\n",
    "\n",
    "file1 = '/Users/kudou/Documents/Classes\\Winter 2021/SeniorThesis/CODE/data/Leatherman_All/leathermanNavy_3d_nosink/release_2018.01.01.nc'\n",
    "file2 = '/Users/kudou/Documents/Classes\\Winter 2021/SeniorThesis/CODE/data/Leatherman_All/leathermanNavy_3d_sink40_sink/release_2018.01.01.nc'"
   ]
  },
  {
   "cell_type": "code",
   "execution_count": 140,
   "id": "2eaa534a-5a22-4887-b41e-c750cc5bf852",
   "metadata": {},
   "outputs": [
    {
     "name": "stdout",
     "output_type": "stream",
     "text": [
      "                     lat\n",
      "Time Particle           \n",
      "0    0         47.550000\n",
      "     1         47.550000\n",
      "     2         47.550000\n",
      "     3         47.550000\n",
      "     4         47.550000\n",
      "...                  ...\n",
      "720  995       48.041070\n",
      "     996       47.668010\n",
      "     997       47.545440\n",
      "     998       47.881321\n",
      "     999       47.611790\n",
      "\n",
      "[721000 rows x 1 columns]\n"
     ]
    },
    {
     "ename": "AttributeError",
     "evalue": "'numpy.ndarray' object has no attribute 'to_dataframe'",
     "output_type": "error",
     "traceback": [
      "\u001b[1;31m---------------------------------------------------------------------------\u001b[0m",
      "\u001b[1;31mAttributeError\u001b[0m                            Traceback (most recent call last)",
      "\u001b[1;32m<ipython-input-140-8c3e6e841367>\u001b[0m in \u001b[0;36m<module>\u001b[1;34m\u001b[0m\n\u001b[0;32m     19\u001b[0m \u001b[0mpd_ns_lat\u001b[0m \u001b[1;33m=\u001b[0m \u001b[0mpd_ns\u001b[0m\u001b[1;33m[\u001b[0m\u001b[1;34m\"lat\"\u001b[0m\u001b[1;33m]\u001b[0m\u001b[1;33m[\u001b[0m\u001b[1;33m:\u001b[0m\u001b[1;33m]\u001b[0m\u001b[1;33m.\u001b[0m\u001b[0mto_dataframe\u001b[0m\u001b[1;33m(\u001b[0m\u001b[1;33m)\u001b[0m\u001b[1;33m\u001b[0m\u001b[1;33m\u001b[0m\u001b[0m\n\u001b[0;32m     20\u001b[0m \u001b[0mprint\u001b[0m\u001b[1;33m(\u001b[0m\u001b[0mpd_ns_lat\u001b[0m\u001b[1;33m)\u001b[0m\u001b[1;33m\u001b[0m\u001b[1;33m\u001b[0m\u001b[0m\n\u001b[1;32m---> 21\u001b[1;33m \u001b[0mpd_ns_reldepth\u001b[0m \u001b[1;33m=\u001b[0m \u001b[0mns_reldepth\u001b[0m\u001b[1;33m.\u001b[0m\u001b[0mto_dataframe\u001b[0m\u001b[1;33m(\u001b[0m\u001b[1;33m)\u001b[0m\u001b[1;33m\u001b[0m\u001b[1;33m\u001b[0m\u001b[0m\n\u001b[0m\u001b[0;32m     22\u001b[0m \u001b[0mpd_ns_lon\u001b[0m \u001b[1;33m=\u001b[0m \u001b[0mns_lon\u001b[0m\u001b[1;33m.\u001b[0m\u001b[0mto_dataframe\u001b[0m\u001b[1;33m(\u001b[0m\u001b[1;33m)\u001b[0m\u001b[1;33m\u001b[0m\u001b[1;33m\u001b[0m\u001b[0m\n\u001b[0;32m     23\u001b[0m \u001b[1;33m\u001b[0m\u001b[0m\n",
      "\u001b[1;31mAttributeError\u001b[0m: 'numpy.ndarray' object has no attribute 'to_dataframe'"
     ]
    }
   ],
   "source": [
    "# Read netCDF4 files\n",
    "ns = nc(file1)\n",
    "s = nc(file2)\n",
    "\n",
    "pd_ns = xr.open_dataset(file1, decode_times=False)\n",
    "pd_s = xr.open_dataset(file2, decode_times=False)\n",
    "\n",
    "# Create arrays with length and width of files\n",
    "a = np.arange(0,1000)\n",
    "b = np.arange(0,720)\n",
    "\n",
    "# Convert float64 to data files \n",
    "\n",
    "ns_reldepth = ns[\"cs\"][:].data\n",
    "ns_lat = ns[\"lat\"][:].data\n",
    "ns_lon = ns[\"lon\"][:].data\n",
    "ns_depth = ns[\"h\"][:].data\n",
    "\n",
    "pd_ns_lat = pd_ns[\"lat\"][:].to_dataframe()\n",
    "print(pd_ns_lat)\n",
    "pd_ns_reldepth = ns_reldepth.to_dataframe()\n",
    "pd_ns_lon = ns_lon.to_dataframe()\n",
    "\n",
    "pd_ns_depth = ns[\"h\"][:].to_dataframe()\n",
    "\n",
    "\n",
    "\n",
    "\n",
    "\n",
    "\n",
    "    \n",
    "\n",
    "ns_latF = ns_lat[[ns_ind],[a]]\n",
    "ns_lonF = ns_lon[[ns_ind],[a]]\n",
    "ns_reldepthF = ns_reldepth[[ns_ind],[a]]\n",
    "ns_depthF = ns_depth[[ns_ind],[a]]\n",
    "\n",
    "\n",
    "\n",
    "\n",
    "ns_depthB = ns_reldepth < -0.99\n",
    "ns_ind = np.argmax(ns_depthB, axis = 0)\n",
    "ns_ind[ns_ind==0] = 720\n",
    "print(ns_ind)\n",
    "s_depthB = s_reldepth < -0.99\n",
    "s_ind = np.argmax(s_depthB, axis = 0)\n",
    "s_ind[s_ind==0] = 720\n",
    "\n",
    "ns2 = ns_lon.join(ns_lat)\n",
    "ns2 = ns2.swaplevel(\"Particle\", \"Time\")\n",
    "ns2 = ns2.sort_index()\n",
    "\n",
    "print(ns2[()])\n",
    "\n",
    "#pd.DataFrame(lemon.row.str.split(',',1).tolist(),\n",
    "#                                 columns = ['time','particle'])\n",
    "#ns2.pivot(index = ns2.index[\"Time\"], columns=ns2.index[\"Particle\"])\n"
   ]
  },
  {
   "cell_type": "code",
   "execution_count": 19,
   "id": "59f17d64-c053-40ed-94c0-fb2808aa4f3a",
   "metadata": {},
   "outputs": [
    {
     "ename": "AttributeError",
     "evalue": "module 'pandas' has no attribute 'Dataframe'",
     "output_type": "error",
     "traceback": [
      "\u001b[1;31m---------------------------------------------------------------------------\u001b[0m",
      "\u001b[1;31mAttributeError\u001b[0m                            Traceback (most recent call last)",
      "\u001b[1;32m<ipython-input-19-66d9b2d7d53f>\u001b[0m in \u001b[0;36m<module>\u001b[1;34m\u001b[0m\n\u001b[0;32m      2\u001b[0m \u001b[0mns\u001b[0m \u001b[1;33m=\u001b[0m \u001b[0mnc\u001b[0m\u001b[1;33m(\u001b[0m\u001b[0mfile1\u001b[0m\u001b[1;33m)\u001b[0m\u001b[1;33m\u001b[0m\u001b[1;33m\u001b[0m\u001b[0m\n\u001b[0;32m      3\u001b[0m \u001b[0ms\u001b[0m \u001b[1;33m=\u001b[0m \u001b[0mnc\u001b[0m\u001b[1;33m(\u001b[0m\u001b[0mfile2\u001b[0m\u001b[1;33m)\u001b[0m\u001b[1;33m\u001b[0m\u001b[1;33m\u001b[0m\u001b[0m\n\u001b[1;32m----> 4\u001b[1;33m \u001b[0mns_df\u001b[0m \u001b[1;33m=\u001b[0m \u001b[0mpd\u001b[0m\u001b[1;33m.\u001b[0m\u001b[0mDataframe\u001b[0m\u001b[1;33m(\u001b[0m\u001b[0mfile1\u001b[0m\u001b[1;33m)\u001b[0m\u001b[1;33m\u001b[0m\u001b[1;33m\u001b[0m\u001b[0m\n\u001b[0m\u001b[0;32m      5\u001b[0m \u001b[0mprint\u001b[0m\u001b[1;33m(\u001b[0m\u001b[0mns_df\u001b[0m\u001b[1;33m)\u001b[0m\u001b[1;33m\u001b[0m\u001b[1;33m\u001b[0m\u001b[0m\n\u001b[0;32m      6\u001b[0m \u001b[1;31m# Create arrays with length and width of files\u001b[0m\u001b[1;33m\u001b[0m\u001b[1;33m\u001b[0m\u001b[1;33m\u001b[0m\u001b[0m\n",
      "\u001b[1;32m~\\anaconda3\\lib\\site-packages\\pandas\\__init__.py\u001b[0m in \u001b[0;36m__getattr__\u001b[1;34m(name)\u001b[0m\n\u001b[0;32m    242\u001b[0m         \u001b[1;32mreturn\u001b[0m \u001b[0m_SparseArray\u001b[0m\u001b[1;33m\u001b[0m\u001b[1;33m\u001b[0m\u001b[0m\n\u001b[0;32m    243\u001b[0m \u001b[1;33m\u001b[0m\u001b[0m\n\u001b[1;32m--> 244\u001b[1;33m     \u001b[1;32mraise\u001b[0m \u001b[0mAttributeError\u001b[0m\u001b[1;33m(\u001b[0m\u001b[1;34mf\"module 'pandas' has no attribute '{name}'\"\u001b[0m\u001b[1;33m)\u001b[0m\u001b[1;33m\u001b[0m\u001b[1;33m\u001b[0m\u001b[0m\n\u001b[0m\u001b[0;32m    245\u001b[0m \u001b[1;33m\u001b[0m\u001b[0m\n\u001b[0;32m    246\u001b[0m \u001b[1;33m\u001b[0m\u001b[0m\n",
      "\u001b[1;31mAttributeError\u001b[0m: module 'pandas' has no attribute 'Dataframe'"
     ]
    }
   ],
   "source": [
    "\n",
    "\n",
    "# Determine final index for each particle\n",
    "ns_depthB = ns_reldepth < -0.99\n",
    "ns_ind = np.argmax(ns_depthB, axis = 0)\n",
    "ns_ind[ns_ind==0] = 720\n",
    "\n",
    "s_depthB = s_reldepth < -0.99\n",
    "s_ind = np.argmax(s_depthB, axis = 0)\n",
    "s_ind[s_ind==0] = 720\n",
    "\n",
    "# Create array containing final value for each particle\n",
    "ns_latF = ns_lat[[ns_ind],[a]]\n",
    "ns_lonF = ns_lon[[ns_ind],[a]]\n",
    "ns_reldepthF = ns_reldepth[[ns_ind],[a]]\n",
    "ns_depthF = ns_depth[[ns_ind],[a]]\n",
    "\n",
    "s_latF = s_lat[[s_ind],[a]]\n",
    "s_lonF = s_lon[[s_ind],[a]]\n",
    "s_depthF = s_depth[[s_ind],[a]]\n",
    "s_reldepthF = s_reldepth[[s_ind],[a]]\n",
    "\n",
    "def points2distance(start,end):\n",
    "    start_latt = start[0]*math.pi/180\n",
    "    end_latt = end[0]*math.pi/180\n",
    "    d_latt = (end_latt - start_latt)\n",
    "    start_long = start[1]*math.pi/180\n",
    "    end_long = end[1]*math.pi/180\n",
    "    d_long = (end_long - start_long)\n",
    "    a = math.sin(d_latt/2)**2 + math.cos(start_latt) * math.cos(end_latt) * math.sin(d_long/2)**2\n",
    "    c = 2 * math.asin(math.sqrt(a))\n",
    "    return 6371 * c\n",
    "d = np.zeros((2, 1000))\n",
    "for i in a:\n",
    "    ns_start = (ns_lat[0,i],ns_lon[0,i])\n",
    "    ns_end = (ns_latF[0,i],ns_lonF[0,i])\n",
    "    d[0,i] = points2distance(ns_start,ns_end)\n",
    "\n",
    "for i in a:\n",
    "    s_start = (s_lat[0,i],s_lon[0,i])\n",
    "    s_end = (s_latF[0,i],s_lonF[0,i])\n",
    "    d[1,i] = points2distance(s_start,s_end)\n",
    "min(ns_ind)"
   ]
  },
  {
   "cell_type": "code",
   "execution_count": null,
   "id": "a1eb08c0-9a7a-4dde-8459-433925afbc26",
   "metadata": {},
   "outputs": [],
   "source": []
  }
 ],
 "metadata": {
  "kernelspec": {
   "display_name": "Python 3",
   "language": "python",
   "name": "python3"
  },
  "language_info": {
   "codemirror_mode": {
    "name": "ipython",
    "version": 3
   },
   "file_extension": ".py",
   "mimetype": "text/x-python",
   "name": "python",
   "nbconvert_exporter": "python",
   "pygments_lexer": "ipython3",
   "version": "3.8.5"
  }
 },
 "nbformat": 4,
 "nbformat_minor": 5
}
