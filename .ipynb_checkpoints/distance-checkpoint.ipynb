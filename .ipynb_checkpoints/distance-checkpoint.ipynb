{
 "cells": [
  {
   "cell_type": "code",
   "execution_count": 1,
   "id": "58cf2e8c-df7e-439a-8fbe-8de679c835fc",
   "metadata": {},
   "outputs": [],
   "source": [
    "import matplotlib.pyplot as plt\n",
    "import numpy as np\n",
    "from netCDF4 import Dataset as nc\n",
    "import math\n",
    "import statistics as stat\n",
    "import pandas as pd\n",
    "import xarray as xr\n",
    "import cftime\n",
    "\n",
    "file1 = '/Users/kudou/Documents/Classes\\Winter 2021/SeniorThesis/CODE/data/Leatherman_All/leathermanNavy_3d_nosink/release_2018.01.01.nc'\n",
    "file2 = '/Users/kudou/Documents/Classes\\Winter 2021/SeniorThesis/CODE/data/Leatherman_All/leathermanNavy_3d_sink40_sink/release_2018.01.01.nc'"
   ]
  },
  {
   "cell_type": "code",
   "execution_count": 2,
   "id": "2eaa534a-5a22-4887-b41e-c750cc5bf852",
   "metadata": {},
   "outputs": [],
   "source": [
    "# Read netCDF4 files\n",
    "ns = nc(file1)\n",
    "s = nc(file2)\n",
    "\n",
    "pd_ns = xr.open_dataset(file1, decode_times=False)\n",
    "pd_s = xr.open_dataset(file2, decode_times=False)\n",
    "\n",
    "# Convert float64 to data files \n",
    "\n",
    "ns_reldepth = ns[\"cs\"][:].data\n",
    "ns_lat = ns[\"lat\"][:].data\n",
    "ns_lon = ns[\"lon\"][:].data\n",
    "ns_depth = ns[\"h\"][:].data\n",
    "\n",
    "s_reldepth = s[\"cs\"][:].data\n",
    "s_lat = s[\"lat\"][:].data\n",
    "s_lon = s[\"lon\"][:].data\n",
    "s_depth = s[\"h\"][:].data\n",
    "\n",
    "ns_depthB = ns_reldepth < -0.99\n",
    "ns_ind = np.argmax(ns_depthB, axis = 0)\n",
    "ns_ind[ns_ind==0] = 720\n",
    "ns_ind = tuple(ns_ind)\n",
    "\n",
    "s_depthB = s_reldepth < -0.99\n",
    "s_ind = np.argmax(s_depthB, axis = 0)\n",
    "s_ind[s_ind==0] = 720\n",
    "s_ind = tuple(s_ind)\n",
    "\n",
    "pd_ns = pd_ns.to_dataframe()\n",
    "pd_s = pd_s.to_dataframe()\n",
    "\n",
    "pd_ns = pd_ns.take([0,1], axis=1)\n",
    "pd_s = pd_s.take([0,1], axis=1)"
   ]
  },
  {
   "cell_type": "code",
   "execution_count": 3,
   "id": "ff5aa75c-76d2-4e4c-9459-7d1c36a4b3af",
   "metadata": {},
   "outputs": [],
   "source": [
    "n, m = 1000, 720\n",
    "ns_dist, s_dist = np.zeros((n,m)), np.zeros((n,m))\n",
    "ns_sum_dist, s_sum_dist = np.zeros((n,1)), np.zeros((n,1))"
   ]
  },
  {
   "cell_type": "code",
   "execution_count": 4,
   "id": "c0336602-60c5-4a88-acb3-192191f3ff1a",
   "metadata": {},
   "outputs": [
    {
     "name": "stdout",
     "output_type": "stream",
     "text": [
      "[55.13594743]\n"
     ]
    }
   ],
   "source": [
    "for i in range(n):\n",
    "    for j in range(m):\n",
    "        start_latt, end_latt = pd_ns.loc[(i,j),\"lat\"], pd_ns.loc[(i,j+1),\"lat\"]\n",
    "        start_long, end_long = pd_ns.loc[(i,j),\"lon\"], pd_ns.loc[(i,j+1),\"lon\"]\n",
    "        d_long, d_latt = (end_long - start_long)*math.pi/180, (end_latt - start_latt)*math.pi/180\n",
    "        a = math.sin(d_latt/2)**2 + math.cos(start_latt) * math.cos(end_latt) * math.sin(d_long/2)**2\n",
    "        c = 2 * math.asin(math.sqrt(a))\n",
    "        ns_dist[i,j] = 6371 * c\n",
    "        \n",
    "for i in range(n):\n",
    "    ns_sum_dist[i] = ns_dist[i,0:ns_ind[i]].sum()\n",
    "print(sum(ns_sum_dist)/n)"
   ]
  },
  {
   "cell_type": "code",
   "execution_count": 5,
   "id": "53bee736-631b-462e-a119-5922cfe3125c",
   "metadata": {},
   "outputs": [
    {
     "name": "stdout",
     "output_type": "stream",
     "text": [
      "[16.75029698]\n"
     ]
    }
   ],
   "source": [
    "for i in range(n):\n",
    "    for j in range(m):\n",
    "        start_latt, end_latt = pd_s.loc[(i,j),\"lat\"], pd_s.loc[(i,j+1),\"lat\"] \n",
    "        start_long, end_long = pd_s.loc[(i,j),\"lon\"], pd_s.loc[(i,j+1),\"lon\"]\n",
    "        d_long, d_latt = (end_long - start_long)*math.pi/180, (end_latt - start_latt)*math.pi/180\n",
    "        a = math.sin(d_latt/2)**2 + math.cos(start_latt) * math.cos(end_latt) * math.sin(d_long/2)**2\n",
    "        c = 2 * math.asin(math.sqrt(a))\n",
    "        s_dist[i,j] = 6371 * c\n",
    "\n",
    "for i in range(n):\n",
    "    s_sum_dist[i] = s_dist[i,0:s_ind[i]].sum()\n",
    "print(sum(s_sum_dist)/n)\n"
   ]
  },
  {
   "cell_type": "code",
   "execution_count": null,
   "id": "7c0b5dee-c1f3-409a-9de2-b97fb72f555f",
   "metadata": {},
   "outputs": [],
   "source": []
  }
 ],
 "metadata": {
  "kernelspec": {
   "display_name": "Python 3",
   "language": "python",
   "name": "python3"
  },
  "language_info": {
   "codemirror_mode": {
    "name": "ipython",
    "version": 3
   },
   "file_extension": ".py",
   "mimetype": "text/x-python",
   "name": "python",
   "nbconvert_exporter": "python",
   "pygments_lexer": "ipython3",
   "version": "3.8.5"
  }
 },
 "nbformat": 4,
 "nbformat_minor": 5
}
